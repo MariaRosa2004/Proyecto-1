{
 "cells": [
  {
   "cell_type": "code",
   "execution_count": 2,
   "metadata": {},
   "outputs": [],
   "source": [
    "import numpy as np \n",
    "import pandas as pd \n",
    "import matplotlib.pyplot as plt\n",
    "import scipy.stats as stats\n",
    "from statsmodels.stats.proportion import proportions_ztest\n",
    "from scipy.stats import wilcoxon\n",
    "from scipy.stats import binomtest\n",
    "from statsmodels.stats.multitest import multipletests #para corrección bonferroni\n",
    "from scipy.stats import ttest_ind #prueba t para dos muestras independientes \n",
    "from itertools import  combinations #combinaciones para prueba t de comparaciones multiples\n",
    "from scipy.stats import ttest_rel #Prueba t para muestras pareadas o no independientes \n",
    "from scipy.stats import mannwhitneyu #Prueba U de Mann-Whitney \n",
    "from scipy.stats import median_abs_deviation\n",
    "\n",
    "def IQR(tabla,variable):\n",
    "    '''Calcula el rango intercuartil (IRQ) de una serie de datos de un dataframe\n",
    "    variable: str, nombre de la columna o fila del data frame que se quiere calcular el IQR'''\n",
    "    try:\n",
    "        variable = str(variable)\n",
    "    except TypeError:\n",
    "        raise TypeError('El argumento debe ser un string')\n",
    "    Q1=tabla[variable].quantile(0.25)\n",
    "    Q2=tabla[variable].quantile(0.5)\n",
    "    Q3=tabla[variable].quantile(0.75)\n",
    "    return Q3-Q1"
   ]
  },
  {
   "cell_type": "code",
   "execution_count": 17,
   "metadata": {},
   "outputs": [
    {
     "name": "stdout",
     "output_type": "stream",
     "text": [
      "Index(['SubjectID', 'aveOralM', 'Gender', 'Age', 'Ethnicity', 'T_atm',\n",
      "       'Humidity', 'Unnamed: 121', 'Cosmetics', 'Unnamed: 123', 'Unnamed: 124',\n",
      "       'ProMax'],\n",
      "      dtype='object')\n"
     ]
    }
   ],
   "source": [
    "#Cargar el archivo al computador y crear un dataframe \n",
    "data=pd.read_csv('FLIR_groups1and2.csv', sep=';')\n",
    "# Seprar los datos en tablas para su posterior análisis\n",
    "tabla1 = data.iloc[:, 2:30].copy()\n",
    "tabla2 = data.iloc[:, 30:59].copy()\n",
    "tabla3 = data.iloc[:, 58:86].copy()\n",
    "tabla4 = data.iloc[:, 114:125].copy()\n",
    "tabla0 = data.iloc[:, 0:1].copy()\n",
    "tablaMAX = data.loc[:,['Unnamed: 3','Unnamed: 31','Unnamed: 59','Unnamed: 87']]\n",
    "# print(tabla0.keys())\n",
    "# print(tabla1.keys())\n",
    "# print(tabla2.keys())\n",
    "# print(tabla3.keys())\n",
    "# print(tabla4.keys())\n",
    "tablaMAX = tablaMAX.drop([0, 1])\n",
    "tablaMAX = tablaMAX.apply(pd.to_numeric, errors='coerce')\n",
    "tablaMAX.fillna(tablaMAX, inplace=True)\n",
    "# Cambiamos los indices de la primera columna \n",
    "tablaMAX[''] = range(1, len(tablaMAX) + 1)  # Add a new column with the range\n",
    "tablaMAX.set_index('', inplace=True)       # Set the new column as the index\n",
    "\n",
    "TablaAnalisis = pd.concat([tabla0,tabla4], axis=1)\n",
    "TablaAnalisis = TablaAnalisis.rename(columns={\n",
    "    'Unnamed: 0': 'SubjectID', \n",
    "    'Unnamed: 115': 'aveOralM',\n",
    "    'Unnamed: 116': 'Gender',\n",
    "    'Unnamed: 117': 'Age',\n",
    "    'Unnamed: 118': 'Ethnicity',\n",
    "    'Unnamed: 119': 'T_atm',\n",
    "    'Unnamed: 120': 'Humidity',\n",
    "    'Unnamed: 122': 'Cosmetics'  # Fixed syntax - removed extra 'Unnamed 123'\n",
    "})\n",
    "TablaAnalisis.pop('Other parameters: ')\n",
    "#Eliminamos las dos primeras filas que no contienen datos relevantes\n",
    "TablaAnalisis = TablaAnalisis.drop([0, 1])\n",
    "TablaAnalisis[''] = range(1, len(tablaMAX) + 1)  # Add a new column with the range\n",
    "TablaAnalisis.set_index('', inplace=True)  \n",
    "TablaAnalisis[\"ProMax\"] = tablaMAX.mean(axis=1)\n",
    "\n",
    "print(TablaAnalisis.keys())\n",
    "TablaFrecuencias=pd.DataFrame()\n",
    "TablaFrecuencias.index =['Media','Mediana','Moda','SD','MAD','Varianza','IQR','CV','CMV']\n",
    "\n"
   ]
  },
  {
   "cell_type": "code",
   "execution_count": 18,
   "metadata": {},
   "outputs": [],
   "source": [
    "# AVE ORAL M\n",
    "TablaAnalisis['aveOralM'] = pd.to_numeric(TablaAnalisis['aveOralM'], errors='coerce')\n",
    "\n",
    "MediaAve = TablaAnalisis['aveOralM'].mean()\n",
    "MedianaAve = TablaAnalisis['aveOralM'].median()\n",
    "ModaAve = TablaAnalisis['aveOralM'].mode()\n",
    "SDAve = TablaAnalisis['aveOralM'].std()\n",
    "MADAve=median_abs_deviation(TablaAnalisis['aveOralM'], nan_policy='omit') #desviación media absoluta\n",
    "VARAve=TablaAnalisis['aveOralM'].var() #varianza\n",
    "IQRave=IQR(TablaAnalisis,'aveOralM') #rango intercuartil\n",
    "CVave= (SDAve/MediaAve)*100 \n",
    "CVMave=(MADAve/MediaAve)*100\n",
    "\n",
    "\n",
    "TablaFrecuencias['aveOralM']=MediaAve,MedianaAve,ModaAve.iloc[0],SDAve,MADAve,VARAve,IQRave,CVave,CVMave"
   ]
  },
  {
   "cell_type": "code",
   "execution_count": 20,
   "metadata": {},
   "outputs": [],
   "source": [
    "#Genero\n",
    "# Convertir valores de 'Gender' a binarios: Male -> 1, Female -> 0\n",
    "TablaAnalisis['Gender']= TablaAnalisis['Gender'].replace({'Male': 1, 'Female': 0})\n",
    "# MedianaGenero=TablaAnalisis['Gender'].median(axis=0)\n",
    "ModaGenero=TablaAnalisis['Gender'].mode()\n",
    "TablaFrecuencias.loc['Moda', 'Genero'] = ModaGenero.iloc[0]\n",
    "\n"
   ]
  },
  {
   "cell_type": "code",
   "execution_count": null,
   "metadata": {},
   "outputs": [],
   "source": [
    "#AGE\n",
    "ModaAge=TablaAnalisis['Age'].mode()\n",
    "TablaFrecuencias.loc['Moda','Edad']=ModaAge.iloc[0]\n"
   ]
  },
  {
   "cell_type": "code",
   "execution_count": null,
   "metadata": {},
   "outputs": [],
   "source": [
    "#Ethnicity\n",
    "\n",
    "EtModa=TablaAnalisis['Ethnicity'].mode()\n",
    "TablaFrecuencias.loc['Moda','Etnicidad']=EtModa.iloc[0]"
   ]
  },
  {
   "cell_type": "code",
   "execution_count": 23,
   "metadata": {},
   "outputs": [],
   "source": [
    "#T_atm\n",
    "TablaAnalisis['T_atm'] = pd.to_numeric(TablaAnalisis['T_atm'], errors='coerce')\n",
    "TMedia=TablaAnalisis['T_atm'].mean()\n",
    "Tmediana=TablaAnalisis['T_atm'].median()\n",
    "TModa=TablaAnalisis['T_atm'].mode()\n",
    "TSD=TablaAnalisis['T_atm'].std()\n",
    "TMAD=median_abs_deviation(TablaAnalisis['T_atm'], nan_policy='omit') #desviación media absoluta\n",
    "TVar=TablaAnalisis['T_atm'].var() #varianza\n",
    "TIQR=IQR(TablaAnalisis,'T_atm') #rango intercuartil\n",
    "TVC= (TSD/TMedia)*100\n",
    "TVCM=(TMAD/TMedia)*100\n",
    "TablaFrecuencias['T_atm']=TMedia,Tmediana,TModa.iloc[0],TSD,TMAD,TVar,TIQR,TVC,TVCM"
   ]
  },
  {
   "cell_type": "code",
   "execution_count": 24,
   "metadata": {},
   "outputs": [],
   "source": [
    "#Humedad\n",
    "TablaAnalisis['Humidity'] = pd.to_numeric(TablaAnalisis['Humidity'], errors='coerce')\n",
    "HuMedia= TablaAnalisis['Humidity'].mean()\n",
    "HuMediana= TablaAnalisis['Humidity'].median()\n",
    "HuModa=TablaAnalisis['Humidity'].mode()\n",
    "HuSD=TablaAnalisis['Humidity'].std()\n",
    "HuMAD=median_abs_deviation(TablaAnalisis['Humidity'], nan_policy='omit')\n",
    "HuVar=TablaAnalisis['Humidity'].var()\n",
    "HuIQR=IQR(TablaAnalisis,'Humidity') #Rango intercuartil\n",
    "HuCV= (HuSD/HuMedia)*100\n",
    "HuCVM=(HuMAD/HuMedia)*100\n",
    "TablaFrecuencias['Humidity'] = HuMedia,HuMediana,HuModa.iloc[0],HuSD,HuMAD,HuVar,HuIQR,HuCV,HuCVM"
   ]
  },
  {
   "cell_type": "code",
   "execution_count": null,
   "metadata": {},
   "outputs": [],
   "source": [
    "#Cosmetics\n",
    "TablaAnalisis['Cosmetics'] = pd.to_numeric(TablaAnalisis['Cosmetics'], errors='coerce')\n",
    "CosModa=TablaAnalisis['Cosmetics'].mode()\n",
    "CosMediana=TablaAnalisis['Cosmetics'].median()\n",
    "CosVar=TablaAnalisis['Cosmetics'].var()\n",
    "TablaFrecuencias.loc['Moda','Cosmetics']=CosModa.iloc[0]\n"
   ]
  },
  {
   "cell_type": "code",
   "execution_count": 15,
   "metadata": {},
   "outputs": [],
   "source": [
    "#ProMAX\n",
    "ProMAXmedia=TablaAnalisis['ProMax'].mean()\n",
    "ProMAXmediana=TablaAnalisis['ProMax'].median()\n",
    "ProMAXmoda=TablaAnalisis['ProMax'].mode()\n",
    "ProMAXSD=TablaAnalisis['ProMax'].std()\n",
    "ProMAXMAD=median_abs_deviation(TablaAnalisis['ProMax'], nan_policy='omit')\n",
    "ProMAXVar=TablaAnalisis['ProMax'].var()\n",
    "ProMAXIQR=IQR(TablaAnalisis,'ProMax') #Rango intercuartil\n",
    "ProMAXCV= (ProMAXSD/ProMAXmedia)*100\n",
    "ProMAXCVM=(ProMAXMAD/ProMAXmedia)*100\n",
    "TablaFrecuencias['ProMAX']=ProMAXmedia,ProMAXmediana,ProMAXmoda.iloc[0],ProMAXSD,ProMAXMAD,ProMAXVar,ProMAXIQR,ProMAXCV,ProMAXCVM"
   ]
  }
 ],
 "metadata": {
  "kernelspec": {
   "display_name": "base",
   "language": "python",
   "name": "python3"
  },
  "language_info": {
   "codemirror_mode": {
    "name": "ipython",
    "version": 3
   },
   "file_extension": ".py",
   "mimetype": "text/x-python",
   "name": "python",
   "nbconvert_exporter": "python",
   "pygments_lexer": "ipython3",
   "version": "3.12.7"
  }
 },
 "nbformat": 4,
 "nbformat_minor": 2
}
