{
 "cells": [
  {
   "cell_type": "code",
   "execution_count": 5,
   "metadata": {},
   "outputs": [],
   "source": [
    "import numpy as np \n",
    "import pandas as pd \n",
    "#import matplotlib.pyplot as plt\n",
    "import scipy.stats as stats\n",
    "from statsmodels.stats.proportion import proportions_ztest\n",
    "from scipy.stats import wilcoxon\n",
    "from scipy.stats import binomtest\n",
    "from statsmodels.stats.multitest import multipletests #para corrección bonferroni\n",
    "from scipy.stats import ttest_ind #prueba t para dos muestras independientes \n",
    "from itertools import  combinations #combinaciones para prueba t de comparaciones multiples\n",
    "from scipy.stats import ttest_rel #Prueba t para muestras pareadas o no independientes \n",
    "from scipy.stats import mannwhitneyu #Prueba U de Mann-Whitney \n",
    "\n",
    "def IQR(tabla,variable):\n",
    "    '''Calcula el rango intercuartil (IRQ) de una serie de datos de un dataframe\n",
    "    variable: str, nombre de la columna o fila del data frame que se quiere calcular el IQR'''\n",
    "    try:\n",
    "        variable = str(variable)\n",
    "    except TypeError:\n",
    "        raise TypeError('El argumento debe ser un string')\n",
    "    Q1=tabla[variable].quantile(0.25, axis=1)\n",
    "    Q2=tabla[variable].quantile(0.5, axis=1)\n",
    "    Q3=tabla[variable].quantile(0.75, axis=1)\n",
    "    return Q3-Q1"
   ]
  },
  {
   "cell_type": "code",
   "execution_count": 12,
   "metadata": {},
   "outputs": [
    {
     "name": "stdout",
     "output_type": "stream",
     "text": [
      "Index(['SubjectID', 'aveOralM', 'Gender', 'Age', 'Ethnicity', 'T_atm',\n",
      "       'Humidity', 'Unnamed: 121', 'Cosmetics', 'Unnamed: 123', 'Unnamed: 124',\n",
      "       'ProMax'],\n",
      "      dtype='object')\n"
     ]
    }
   ],
   "source": [
    "#Cargar el archivo al computador y crear un dataframe \n",
    "data=pd.read_csv('FLIR_groups1and2.csv', sep=';')\n",
    "# Seprar los datos en tablas para su posterior análisis\n",
    "tabla1 = data.iloc[:, 2:30].copy()\n",
    "tabla2 = data.iloc[:, 30:59].copy()\n",
    "tabla3 = data.iloc[:, 58:86].copy()\n",
    "tabla4 = data.iloc[:, 114:125].copy()\n",
    "tabla0 = data.iloc[:, 0:1].copy()\n",
    "tablaMAX = data.loc[:,['Unnamed: 3','Unnamed: 31','Unnamed: 59','Unnamed: 87']]\n",
    "# print(tabla0.keys())\n",
    "# print(tabla1.keys())\n",
    "# print(tabla2.keys())\n",
    "# print(tabla3.keys())\n",
    "# print(tabla4.keys())\n",
    "tablaMAX = tablaMAX.drop([0, 1])\n",
    "tablaMAX = tablaMAX.apply(pd.to_numeric, errors='coerce')\n",
    "tablaMAX.fillna(tablaMAX, inplace=True)\n",
    "# Cambiamos los indices de la primera columna \n",
    "tablaMAX[''] = range(1, len(tablaMAX) + 1)  # Add a new column with the range\n",
    "tablaMAX.set_index('', inplace=True)       # Set the new column as the index\n",
    "\n",
    "TablaAnalisis = pd.concat([tabla0,tabla4], axis=1)\n",
    "TablaAnalisis = TablaAnalisis.rename(columns={\n",
    "    'Unnamed: 0': 'SubjectID', \n",
    "    'Unnamed: 115': 'aveOralM',\n",
    "    'Unnamed: 116': 'Gender',\n",
    "    'Unnamed: 117': 'Age',\n",
    "    'Unnamed: 118': 'Ethnicity',\n",
    "    'Unnamed: 119': 'T_atm',\n",
    "    'Unnamed: 120': 'Humidity',\n",
    "    'Unnamed: 122': 'Cosmetics'  # Fixed syntax - removed extra 'Unnamed 123'\n",
    "})\n",
    "TablaAnalisis.pop('Other parameters: ')\n",
    "#Eliminamos las dos primeras filas que no contienen datos relevantes\n",
    "TablaAnalisis = TablaAnalisis.drop([0, 1])\n",
    "TablaAnalisis[''] = range(1, len(tablaMAX) + 1)  # Add a new column with the range\n",
    "TablaAnalisis.set_index('', inplace=True)  \n",
    "TablaAnalisis[\"ProMax\"] = tablaMAX.mean(axis=1)\n",
    "\n",
    "print(TablaAnalisis.keys())\n",
    "\n"
   ]
  },
  {
   "cell_type": "code",
   "execution_count": 13,
   "metadata": {},
   "outputs": [
    {
     "name": "stderr",
     "output_type": "stream",
     "text": [
      "C:\\Users\\maria\\AppData\\Local\\Temp\\ipykernel_18032\\973179837.py:3: FutureWarning: Downcasting behavior in `replace` is deprecated and will be removed in a future version. To retain the old behavior, explicitly call `result.infer_objects(copy=False)`. To opt-in to the future behavior, set `pd.set_option('future.no_silent_downcasting', True)`\n",
      "  TablaAnalisis.loc['Gender']= TablaAnalisis['Gender'].replace({'Male': 1, 'Female': 0})\n"
     ]
    }
   ],
   "source": [
    "#Edad \n",
    "# Convertir valores de 'Gender' a binarios: Male -> 1, Female -> 0\n",
    "TablaAnalisis.loc['Gender']= TablaAnalisis['Gender'].replace({'Male': 1, 'Female': 0})\n",
    "# Contar la cantidad de valores binarios para 'Gender' donde Gender == 1 (Male)\n",
    "df = sum(TablaAnalisis['Gender'] == 1)\n"
   ]
  },
  {
   "cell_type": "code",
   "execution_count": null,
   "metadata": {},
   "outputs": [],
   "source": [
    "# TablaAnalisis['aveOralM'] = TablaAnalisis['aveOralM'].str.extract(r'(\\d+\\.\\d+)').astype(float)\n",
    "# # Si hay valores nulos, podrías querer rellenarlos (aunque no es obligatorio para calcular la media)\n",
    "\n",
    "# # Ahora calculas la media\n",
    "# Media = TablaAnalisis['aveOralM'].mean()\n",
    "TablaAnalisisT=TablaAnalisis.T\n",
    "print(TablaAnalisisT.keys())\n",
    "\n",
    "\n",
    "\n",
    "# TablaAnalisisT['Media']=TablaAnalisisT.fillna(value=TablaAnalisisT['aveOralM'].mean(), inplace=True)\n",
    "# TablaAnalisisT[]= TablaAnalisisT.median(axis=1)\n",
    "# TablaAnalisisT['Moda']= TablaAnalisisT.mode(axis=1)[0]\n",
    "# TablaAnalisisT['Desviacion']= TablaAnalisisT.std(axis=1) \n",
    "# TablaAnalisisT['MAD']='¿Respecto a que?' \n",
    "# TablaAnalisisT['Varianza']= TablaAnalisisT.var(axis=1)\n",
    "\n",
    "\n",
    "LimiteInferior=TablaAnalisisT['Media']-1.5*TablaAnalisisT['Desviacion']\n",
    "LimiteSuperior=TablaAnalisisT['Media']+1.5*TablaAnalisisT['Desviacion']\n",
    "'''Media de aveOralM'''\n",
    "# Si 'aveOralM' contiene strings como 'valor °C' o 'valor texto', primero extraemos el número decimal\n",
    "\n"
   ]
  }
 ],
 "metadata": {
  "kernelspec": {
   "display_name": "base",
   "language": "python",
   "name": "python3"
  },
  "language_info": {
   "codemirror_mode": {
    "name": "ipython",
    "version": 3
   },
   "file_extension": ".py",
   "mimetype": "text/x-python",
   "name": "python",
   "nbconvert_exporter": "python",
   "pygments_lexer": "ipython3",
   "version": "3.12.7"
  }
 },
 "nbformat": 4,
 "nbformat_minor": 2
}
